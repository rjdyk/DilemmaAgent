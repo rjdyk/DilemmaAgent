{
 "cells": [
  {
   "cell_type": "markdown",
   "metadata": {},
   "source": [
    "# DilemmaAgent: LLM Behavior in Game Theoretical Scenarios Analysis"
   ]
  },
  {
   "cell_type": "code",
   "execution_count": 1,
   "metadata": {},
   "outputs": [],
   "source": [
    "import pandas as pd\n",
    "import matplotlib.pyplot as plt\n",
    "import seaborn as sns\n",
    "from app.utils.experiment_storage import ExperimentStorage"
   ]
  },
  {
   "cell_type": "markdown",
   "metadata": {},
   "source": [
    "## 1. Load Data"
   ]
  },
  {
   "cell_type": "code",
   "execution_count": 2,
   "metadata": {},
   "outputs": [
    {
     "name": "stdout",
     "output_type": "stream",
     "text": [
      "Current working directory: /Users/jonahdykhuizen/Dev/DilemmaAgent/backend\n"
     ]
    }
   ],
   "source": [
    "import os\n",
    "print(\"Current working directory:\", os.getcwd())"
   ]
  },
  {
   "cell_type": "code",
   "execution_count": 3,
   "metadata": {},
   "outputs": [],
   "source": [
    "storage = ExperimentStorage()\n",
    "experiments_df = storage.get_experiments_summary()"
   ]
  },
  {
   "cell_type": "markdown",
   "metadata": {},
   "source": [
    "## 2. Cooperation Rate Analysis"
   ]
  },
  {
   "cell_type": "code",
   "execution_count": 4,
   "metadata": {},
   "outputs": [],
   "source": [
    "def plot_cooperation_rates(experiment_id):\n",
    "    results = storage.get_experiment_results(experiment_id)\n",
    "    games_df = pd.DataFrame([\n",
    "        {\n",
    "            'game_number': i,\n",
    "            'cooperation_rate': game.cooperation_rate,\n",
    "            'strategy': game.opponent_strategy\n",
    "        }\n",
    "        for i, game in enumerate(results.games)\n",
    "    ])\n",
    "    \n",
    "    plt.figure(figsize=(12,6))\n",
    "    sns.boxplot(data=games_df, x='strategy', y='cooperation_rate')\n",
    "    plt.title(f'Cooperation Rates by Strategy\\nMatrix: {results.matrix_type}')\n",
    "    plt.show()"
   ]
  },
  {
   "cell_type": "markdown",
   "metadata": {},
   "source": [
    "\n",
    "## 3. Score Distribution Analysis"
   ]
  },
  {
   "cell_type": "code",
   "execution_count": 5,
   "metadata": {},
   "outputs": [],
   "source": [
    "def plot_score_distributions(experiment_id):\n",
    "    results = storage.get_experiment_results(experiment_id)\n",
    "    scores_df = pd.DataFrame([\n",
    "        {\n",
    "            'game_number': i,\n",
    "            'ai_score': game.final_scores[0],\n",
    "            'opponent_score': game.final_scores[1],\n",
    "            'strategy': game.opponent_strategy\n",
    "        }\n",
    "        for i, game in enumerate(results.games)\n",
    "    ])\n",
    "    \n",
    "    plt.figure(figsize=(12,6))\n",
    "    sns.violinplot(data=scores_df.melt(id_vars=['strategy'], \n",
    "                                     value_vars=['ai_score', 'opponent_score']),\n",
    "                  x='strategy', y='value', hue='variable')\n",
    "    plt.title(f'Score Distributions\\nMatrix: {results.matrix_type}')\n",
    "    plt.show()"
   ]
  },
  {
   "cell_type": "markdown",
   "metadata": {},
   "source": [
    "## 4. Token Usage Analysis"
   ]
  },
  {
   "cell_type": "code",
   "execution_count": 6,
   "metadata": {},
   "outputs": [],
   "source": [
    "def plot_token_usage(experiment_id):\n",
    "    results = storage.get_experiment_results(experiment_id)\n",
    "    token_df = pd.DataFrame([\n",
    "        {\n",
    "            'round': r.round_number,\n",
    "            'game': i,\n",
    "            'tokens': r.token_usage.total_tokens if r.token_usage else 0,\n",
    "            'strategy': game.opponent_strategy\n",
    "        }\n",
    "        for i, game in enumerate(results.games)\n",
    "        for r in game.rounds\n",
    "    ])\n",
    "    \n",
    "    plt.figure(figsize=(12,6))\n",
    "    sns.lineplot(data=token_df, x='round', y='tokens', hue='strategy')\n",
    "    plt.title(f'Token Usage Over Time\\nMatrix: {results.matrix_type}')\n",
    "    plt.show()"
   ]
  },
  {
   "cell_type": "markdown",
   "metadata": {},
   "source": [
    "## 5. Reasoning Analysis"
   ]
  },
  {
   "cell_type": "code",
   "execution_count": 7,
   "metadata": {},
   "outputs": [],
   "source": [
    "def analyze_reasoning(experiment_id):\n",
    "    results = storage.get_experiment_results(experiment_id)\n",
    "    reasoning_df = pd.DataFrame([\n",
    "        {\n",
    "            'round': r.round_number,\n",
    "            'game': i,\n",
    "            'reasoning': r.player1_reasoning,\n",
    "            'move': r.player1_move.value,\n",
    "            'strategy': game.opponent_strategy\n",
    "        }\n",
    "        for i, game in enumerate(results.games)\n",
    "        for r in game.rounds\n",
    "    ])\n",
    "    \n",
    "    # Basic text analysis of reasoning\n",
    "    from collections import Counter\n",
    "    import nltk\n",
    "    nltk.download('punkt')\n",
    "    nltk.download('stopwords')\n",
    "    \n",
    "    words = ' '.join(reasoning_df['reasoning']).lower().split()\n",
    "    word_freq = Counter(words).most_common(20)\n",
    "    \n",
    "    plt.figure(figsize=(12,6))\n",
    "    sns.barplot(x=[w[0] for w in word_freq], y=[w[1] for w in word_freq])\n",
    "    plt.xticks(rotation=45)\n",
    "    plt.title('Most Common Words in AI Reasoning')\n",
    "    plt.show()"
   ]
  },
  {
   "cell_type": "markdown",
   "metadata": {},
   "source": [
    "# Experimentation"
   ]
  },
  {
   "cell_type": "code",
   "execution_count": 9,
   "metadata": {},
   "outputs": [],
   "source": [
    "experiment_id = '9874f0f2-739c-4134-9093-c7a13d482890'"
   ]
  },
  {
   "cell_type": "code",
   "execution_count": 10,
   "metadata": {},
   "outputs": [
    {
     "ename": "AttributeError",
     "evalue": "'ExperimentStorage' object has no attribute '_construct_experiment_result'",
     "output_type": "error",
     "traceback": [
      "\u001b[0;31m---------------------------------------------------------------------------\u001b[0m",
      "\u001b[0;31mAttributeError\u001b[0m                            Traceback (most recent call last)",
      "Cell \u001b[0;32mIn[10], line 1\u001b[0m\n\u001b[0;32m----> 1\u001b[0m \u001b[43mplot_cooperation_rates\u001b[49m\u001b[43m(\u001b[49m\u001b[43mexperiment_id\u001b[49m\u001b[43m)\u001b[49m\n\u001b[1;32m      2\u001b[0m plot_score_distributions(experiment_id)\n\u001b[1;32m      3\u001b[0m plot_token_usage(experiment_id)\n",
      "Cell \u001b[0;32mIn[4], line 2\u001b[0m, in \u001b[0;36mplot_cooperation_rates\u001b[0;34m(experiment_id)\u001b[0m\n\u001b[1;32m      1\u001b[0m \u001b[38;5;28;01mdef\u001b[39;00m\u001b[38;5;250m \u001b[39m\u001b[38;5;21mplot_cooperation_rates\u001b[39m(experiment_id):\n\u001b[0;32m----> 2\u001b[0m     results \u001b[38;5;241m=\u001b[39m \u001b[43mstorage\u001b[49m\u001b[38;5;241;43m.\u001b[39;49m\u001b[43mget_experiment_results\u001b[49m\u001b[43m(\u001b[49m\u001b[43mexperiment_id\u001b[49m\u001b[43m)\u001b[49m\n\u001b[1;32m      3\u001b[0m     games_df \u001b[38;5;241m=\u001b[39m pd\u001b[38;5;241m.\u001b[39mDataFrame([\n\u001b[1;32m      4\u001b[0m         {\n\u001b[1;32m      5\u001b[0m             \u001b[38;5;124m'\u001b[39m\u001b[38;5;124mgame_number\u001b[39m\u001b[38;5;124m'\u001b[39m: i,\n\u001b[0;32m   (...)\u001b[0m\n\u001b[1;32m      9\u001b[0m         \u001b[38;5;28;01mfor\u001b[39;00m i, game \u001b[38;5;129;01min\u001b[39;00m \u001b[38;5;28menumerate\u001b[39m(results\u001b[38;5;241m.\u001b[39mgames)\n\u001b[1;32m     10\u001b[0m     ])\n\u001b[1;32m     12\u001b[0m     plt\u001b[38;5;241m.\u001b[39mfigure(figsize\u001b[38;5;241m=\u001b[39m(\u001b[38;5;241m12\u001b[39m,\u001b[38;5;241m6\u001b[39m))\n",
      "File \u001b[0;32m~/Dev/DilemmaAgent/backend/app/utils/experiment_storage.py:142\u001b[0m, in \u001b[0;36mExperimentStorage.get_experiment_results\u001b[0;34m(self, experiment_id)\u001b[0m\n\u001b[1;32m    139\u001b[0m csv_path \u001b[38;5;241m=\u001b[39m \u001b[38;5;28mself\u001b[39m\u001b[38;5;241m.\u001b[39mcsv_dir \u001b[38;5;241m/\u001b[39m \u001b[38;5;124mf\u001b[39m\u001b[38;5;124m\"\u001b[39m\u001b[38;5;132;01m{\u001b[39;00mexperiment_id\u001b[38;5;132;01m}\u001b[39;00m\u001b[38;5;124m_games.csv\u001b[39m\u001b[38;5;124m\"\u001b[39m\n\u001b[1;32m    140\u001b[0m games_df \u001b[38;5;241m=\u001b[39m pd\u001b[38;5;241m.\u001b[39mread_csv(csv_path)\n\u001b[0;32m--> 142\u001b[0m \u001b[38;5;28;01mreturn\u001b[39;00m \u001b[38;5;28;43mself\u001b[39;49m\u001b[38;5;241;43m.\u001b[39;49m\u001b[43m_construct_experiment_result\u001b[49m(metadata, games_df)\n",
      "\u001b[0;31mAttributeError\u001b[0m: 'ExperimentStorage' object has no attribute '_construct_experiment_result'"
     ]
    }
   ],
   "source": [
    "plot_cooperation_rates(experiment_id)\n",
    "plot_score_distributions(experiment_id)\n",
    "plot_token_usage(experiment_id)\n",
    "analyze_reasoning(experiment_id)"
   ]
  },
  {
   "cell_type": "code",
   "execution_count": 11,
   "metadata": {},
   "outputs": [
    {
     "ename": "AttributeError",
     "evalue": "'ExperimentStorage' object has no attribute '_construct_experiment_result'",
     "output_type": "error",
     "traceback": [
      "\u001b[0;31m---------------------------------------------------------------------------\u001b[0m",
      "\u001b[0;31mAttributeError\u001b[0m                            Traceback (most recent call last)",
      "Cell \u001b[0;32mIn[11], line 1\u001b[0m\n\u001b[0;32m----> 1\u001b[0m results \u001b[38;5;241m=\u001b[39m \u001b[43mstorage\u001b[49m\u001b[38;5;241;43m.\u001b[39;49m\u001b[43mget_experiment_results\u001b[49m\u001b[43m(\u001b[49m\u001b[43mexperiment_id\u001b[49m\u001b[43m)\u001b[49m\n",
      "File \u001b[0;32m~/Dev/DilemmaAgent/backend/app/utils/experiment_storage.py:142\u001b[0m, in \u001b[0;36mExperimentStorage.get_experiment_results\u001b[0;34m(self, experiment_id)\u001b[0m\n\u001b[1;32m    139\u001b[0m csv_path \u001b[38;5;241m=\u001b[39m \u001b[38;5;28mself\u001b[39m\u001b[38;5;241m.\u001b[39mcsv_dir \u001b[38;5;241m/\u001b[39m \u001b[38;5;124mf\u001b[39m\u001b[38;5;124m\"\u001b[39m\u001b[38;5;132;01m{\u001b[39;00mexperiment_id\u001b[38;5;132;01m}\u001b[39;00m\u001b[38;5;124m_games.csv\u001b[39m\u001b[38;5;124m\"\u001b[39m\n\u001b[1;32m    140\u001b[0m games_df \u001b[38;5;241m=\u001b[39m pd\u001b[38;5;241m.\u001b[39mread_csv(csv_path)\n\u001b[0;32m--> 142\u001b[0m \u001b[38;5;28;01mreturn\u001b[39;00m \u001b[38;5;28;43mself\u001b[39;49m\u001b[38;5;241;43m.\u001b[39;49m\u001b[43m_construct_experiment_result\u001b[49m(metadata, games_df)\n",
      "\u001b[0;31mAttributeError\u001b[0m: 'ExperimentStorage' object has no attribute '_construct_experiment_result'"
     ]
    }
   ],
   "source": [
    "results = storage.get_experiment_results(experiment_id)"
   ]
  },
  {
   "cell_type": "code",
   "execution_count": null,
   "metadata": {},
   "outputs": [],
   "source": []
  }
 ],
 "metadata": {
  "kernelspec": {
   "display_name": "dilemma_agent_venv",
   "language": "python",
   "name": "dilemma_agent_venv"
  },
  "language_info": {
   "codemirror_mode": {
    "name": "ipython",
    "version": 3
   },
   "file_extension": ".py",
   "mimetype": "text/x-python",
   "name": "python",
   "nbconvert_exporter": "python",
   "pygments_lexer": "ipython3",
   "version": "3.10.9"
  }
 },
 "nbformat": 4,
 "nbformat_minor": 4
}
