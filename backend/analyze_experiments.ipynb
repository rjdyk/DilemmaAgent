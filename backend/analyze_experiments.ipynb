{
 "cells": [
  {
   "cell_type": "markdown",
   "metadata": {},
   "source": [
    "# DilemmaAgent: LLM Behavior in Game Theoretical Scenarios Analysis"
   ]
  },
  {
   "cell_type": "code",
   "execution_count": 1,
   "metadata": {},
   "outputs": [],
   "source": [
    "import pandas as pd\n",
    "import matplotlib.pyplot as plt\n",
    "import seaborn as sns\n",
    "import numpy as np\n",
    "from app.utils.experiment_storage import ExperimentStorage\n",
    "from app.utils.experiment_analyzer import ExperimentAnalyzer"
   ]
  },
  {
   "cell_type": "markdown",
   "metadata": {},
   "source": [
    "## 1. Load Data"
   ]
  },
  {
   "cell_type": "code",
   "execution_count": null,
   "metadata": {},
   "outputs": [],
   "source": [
    "import os\n",
    "print(\"Current working directory:\", os.getcwd())"
   ]
  },
  {
   "cell_type": "code",
   "execution_count": 2,
   "metadata": {},
   "outputs": [],
   "source": [
    "storage = ExperimentStorage()\n",
    "experiments_df = storage.get_experiments_summary()"
   ]
  },
  {
   "cell_type": "markdown",
   "metadata": {},
   "source": [
    "## 2. Cooperation Rate Analysis"
   ]
  },
  {
   "cell_type": "code",
   "execution_count": null,
   "metadata": {},
   "outputs": [],
   "source": [
    "def plot_cooperation_rates(experiment_id):\n",
    "    results = storage.get_experiment_results(experiment_id)\n",
    "    games_df = pd.DataFrame([\n",
    "        {\n",
    "            'game_number': i,\n",
    "            'cooperation_rate': game.cooperation_rate,\n",
    "            'strategy': results.player2_strategy\n",
    "        }\n",
    "        for i, game in enumerate(results.games)\n",
    "    ])\n",
    "    \n",
    "    plt.figure(figsize=(12,6))\n",
    "    sns.boxplot(data=games_df, x='strategy', y='cooperation_rate')\n",
    "    plt.title(f'Cooperation Rates by Strategy\\nMatrix: {results.matrix_type}')\n",
    "    plt.show()"
   ]
  },
  {
   "cell_type": "markdown",
   "metadata": {},
   "source": [
    "\n",
    "## 3. Score Distribution Analysis"
   ]
  },
  {
   "cell_type": "code",
   "execution_count": null,
   "metadata": {},
   "outputs": [],
   "source": [
    "def plot_score_distributions(experiment_id):\n",
    "    results = storage.get_experiment_results(experiment_id)\n",
    "    scores_df = pd.DataFrame([\n",
    "        {\n",
    "            'game_number': i,\n",
    "            'ai_score': game.final_scores[0],\n",
    "            'opponent_score': game.final_scores[1],\n",
    "            'strategy': results.player2_strategy,\n",
    "        }\n",
    "        for i, game in enumerate(results.games)\n",
    "    ])\n",
    "    \n",
    "    plt.figure(figsize=(12,6))\n",
    "    sns.violinplot(data=scores_df.melt(id_vars=['strategy'], \n",
    "                                     value_vars=['ai_score', 'opponent_score']),\n",
    "                  x='strategy', y='value', hue='variable')\n",
    "    plt.title(f'Score Distributions\\nMatrix: {results.matrix_type}')\n",
    "    plt.show()"
   ]
  },
  {
   "cell_type": "markdown",
   "metadata": {},
   "source": [
    "## 4. Token Usage Analysis"
   ]
  },
  {
   "cell_type": "code",
   "execution_count": null,
   "metadata": {},
   "outputs": [],
   "source": [
    "def plot_token_usage(experiment_id):\n",
    "    results = storage.get_experiment_results(experiment_id)\n",
    "    token_df = pd.DataFrame([\n",
    "        {\n",
    "            'round': r.round_number,\n",
    "            'game': i,\n",
    "            'tokens': r.token_usage.total_tokens if r.token_usage else 0,\n",
    "            'strategy': results.player2_strategy\n",
    "        }\n",
    "        for i, game in enumerate(results.games)\n",
    "        for r in game.rounds\n",
    "    ])\n",
    "    \n",
    "    plt.figure(figsize=(12,6))\n",
    "    sns.lineplot(data=token_df, x='round', y='tokens', hue='strategy')\n",
    "    plt.title(f'Token Usage Over Time\\nMatrix: {results.matrix_type}')\n",
    "    plt.show()"
   ]
  },
  {
   "cell_type": "markdown",
   "metadata": {},
   "source": [
    "## 5. Reasoning Analysis"
   ]
  },
  {
   "cell_type": "code",
   "execution_count": null,
   "metadata": {},
   "outputs": [],
   "source": [
    "def analyze_reasoning(experiment_id):\n",
    "    results = storage.get_experiment_results(experiment_id)\n",
    "    reasoning_df = pd.DataFrame([\n",
    "        {\n",
    "            'round': r.round_number,\n",
    "            'game': i,\n",
    "            'reasoning': r.player1_reasoning,\n",
    "            'move': r.player1_move.value,\n",
    "            'strategy': results.player2_strategy\n",
    "        }\n",
    "        for i, game in enumerate(results.games)\n",
    "        for r in game.rounds\n",
    "    ])\n",
    "    \n",
    "    # Basic text analysis of reasoning\n",
    "    from collections import Counter\n",
    "    import nltk\n",
    "    nltk.download('punkt')\n",
    "    nltk.download('stopwords')\n",
    "    \n",
    "    words = ' '.join(reasoning_df['reasoning']).lower().split()\n",
    "    word_freq = Counter(words).most_common(20)\n",
    "    \n",
    "    plt.figure(figsize=(12,6))\n",
    "    sns.barplot(x=[w[0] for w in word_freq], y=[w[1] for w in word_freq])\n",
    "    plt.xticks(rotation=45)\n",
    "    plt.title('Most Common Words in AI Reasoning')\n",
    "    plt.show()"
   ]
  },
  {
   "cell_type": "markdown",
   "metadata": {},
   "source": [
    "# Experimentation"
   ]
  },
  {
   "cell_type": "code",
   "execution_count": null,
   "metadata": {},
   "outputs": [],
   "source": [
    "experiment_id = '9874f0f2-739c-4134-9093-c7a13d482890'"
   ]
  },
  {
   "cell_type": "code",
   "execution_count": null,
   "metadata": {},
   "outputs": [],
   "source": [
    "plot_cooperation_rates(experiment_id)\n",
    "plot_score_distributions(experiment_id)\n",
    "plot_token_usage(experiment_id)\n",
    "analyze_reasoning(experiment_id)"
   ]
  },
  {
   "cell_type": "code",
   "execution_count": null,
   "metadata": {},
   "outputs": [],
   "source": [
    "results = storage.get_experiment_results(experiment_id)"
   ]
  },
  {
   "cell_type": "markdown",
   "metadata": {},
   "source": [
    "# Experiment"
   ]
  },
  {
   "cell_type": "markdown",
   "metadata": {},
   "source": [
    "## Functions"
   ]
  },
  {
   "cell_type": "code",
   "execution_count": 3,
   "metadata": {},
   "outputs": [],
   "source": [
    "def display_experiment_overview():\n",
    "    \"\"\"Show basic information about all experiments\"\"\"\n",
    "    storage = ExperimentStorage()\n",
    "    experiments_df = storage.get_experiments_summary()\n",
    "    \n",
    "    overview = experiments_df[['experiment_id', 'matrix_type', 'player1_strategy', \n",
    "                             'player2_strategy', 'total_games', 'cooperation_rate']]\n",
    "    \n",
    "    # Add duration column\n",
    "    overview['duration'] = pd.to_datetime(experiments_df['end_time']) - pd.to_datetime(experiments_df['start_time'])\n",
    "    \n",
    "    print(\"Available Experiments:\")\n",
    "    display(overview)\n",
    "    return overview"
   ]
  },
  {
   "cell_type": "code",
   "execution_count": 4,
   "metadata": {},
   "outputs": [],
   "source": [
    "def analyze_experiments(experiment_id: str):\n",
    "    \"\"\"Display game statistics for a specific experiment\"\"\"\n",
    "    storage = ExperimentStorage()\n",
    "    \n",
    "    # Get experiment metadata\n",
    "    experiments_df = storage.get_experiments_summary()\n",
    "    exp = experiments_df[experiments_df['experiment_id'] == experiment_id].iloc[0]\n",
    "    \n",
    "    # Read game data\n",
    "    games_df = pd.read_csv(storage.csv_dir / f\"{experiment_id}_games.csv\")\n",
    "    \n",
    "    # Group by game_id to get game-level stats\n",
    "    game_stats = games_df.groupby('game_id').agg({\n",
    "        'matrix_type': 'first',\n",
    "        'player1_move': lambda x: (x == 'cooperate').mean(),  # cooperation rate\n",
    "        'player2_move': lambda x: (x == 'cooperate').mean(),\n",
    "        'cumulative_player1_score': 'last',  # final scores\n",
    "        'cumulative_player2_score': 'last',\n",
    "        'player2_reasoning': 'first'  # strategy name\n",
    "    }).reset_index()\n",
    "    \n",
    "    game_stats['winner'] = np.where(\n",
    "        game_stats['cumulative_player1_score'] > game_stats['cumulative_player2_score'],\n",
    "        'AI', 'Opponent')\n",
    "        \n",
    "    game_stats.columns = ['game_id', 'matrix_type', 'p1_coop_rate', 'p2_coop_rate', \n",
    "                         'p1_final_score', 'p2_final_score', 'opponent_strategy', 'winner']\n",
    "    \n",
    "    print(f\"\\nAnalysis for experiment {experiment_id}\")\n",
    "    print(f\"Matrix Type: {exp.matrix_type}\")\n",
    "    print(f\"Player 1: {exp.player1_strategy}\")\n",
    "    print(f\"Player 2: {exp.player2_strategy}\")\n",
    "    print(\"\\nGame Statistics:\")\n",
    "    display(game_stats)\n",
    "    \n",
    "    return game_stats"
   ]
  },
  {
   "cell_type": "code",
   "execution_count": 13,
   "metadata": {},
   "outputs": [],
   "source": [
    "def view_game_details(game_id: str):\n",
    "    \"\"\"View detailed round-by-round information for a specific game\"\"\"\n",
    "    # Set pandas display options for better readability\n",
    "    pd.set_option('display.max_colwidth', None)  # Show full reasoning\n",
    "    pd.set_option('display.max_rows', None)      # Show all rounds\n",
    "    pd.set_option('display.width', None)         # Auto-adjust width\n",
    "    \n",
    "    storage = ExperimentStorage()\n",
    "    \n",
    "    # Find which experiment contains this game\n",
    "    for exp_id in storage.get_experiments_summary()['experiment_id']:\n",
    "        games_df = pd.read_csv(storage.csv_dir / f\"{exp_id}_games.csv\")\n",
    "        game_rounds = games_df[games_df['game_id'] == game_id]\n",
    "        \n",
    "        if len(game_rounds) > 0:\n",
    "            print(f\"Game ID: {game_id}\")\n",
    "            print(f\"Matrix Type: {game_rounds['matrix_type'].iloc[0]}\")\n",
    "            print(f\"Opponent Strategy: {game_rounds['player2_reasoning'].iloc[0]}\")\n",
    "            print(f\"Final Score - AI: {game_rounds['cumulative_player1_score'].iloc[-1]}, \" \n",
    "                  f\"Opponent: {game_rounds['cumulative_player2_score'].iloc[-1]}\\n\")\n",
    "            \n",
    "            # Rename columns for cleaner display\n",
    "            display_df = game_rounds[[\n",
    "                'round_number', \n",
    "                'player1_move', \n",
    "                'player2_move', \n",
    "                'player1_score', \n",
    "                'player2_score', \n",
    "                'cumulative_player1_score', \n",
    "                'cumulative_player2_score', \n",
    "                'player1_reasoning'\n",
    "            ]].rename(columns={\n",
    "                'round_number': 'round',\n",
    "                'player1_move': 'p1 move',\n",
    "                'player2_move': 'p2 move',\n",
    "                'player1_score': 'p1 score',\n",
    "                'player2_score': 'p2 score',\n",
    "                'cumulative_player1_score': 'p1 total',\n",
    "                'cumulative_player2_score': 'p2 total',\n",
    "                'player1_reasoning': 'AI reasoning'\n",
    "            })\n",
    "            \n",
    "            # Display the cleaned up DataFrame\n",
    "            display(display_df)\n",
    "            return\n",
    "            \n",
    "    print(f\"Game {game_id} not found\")\n",
    "\n",
    "    # Reset display options to defaults\n",
    "    pd.reset_option('display.max_colwidth')\n",
    "    pd.reset_option('display.max_rows')\n",
    "    pd.reset_option('display.width')"
   ]
  },
  {
   "cell_type": "markdown",
   "metadata": {},
   "source": [
    "# Analysis Flow"
   ]
  },
  {
   "cell_type": "markdown",
   "metadata": {},
   "source": [
    "## Step 1: See all experiments"
   ]
  },
  {
   "cell_type": "code",
   "execution_count": 6,
   "metadata": {},
   "outputs": [
    {
     "name": "stdout",
     "output_type": "stream",
     "text": [
      "Available Experiments:\n"
     ]
    },
    {
     "name": "stderr",
     "output_type": "stream",
     "text": [
      "/var/folders/lb/d5cy88yj4w5bbs8q82y2c83m0000gn/T/ipykernel_27592/1764088085.py:10: SettingWithCopyWarning: \n",
      "A value is trying to be set on a copy of a slice from a DataFrame.\n",
      "Try using .loc[row_indexer,col_indexer] = value instead\n",
      "\n",
      "See the caveats in the documentation: https://pandas.pydata.org/pandas-docs/stable/user_guide/indexing.html#returning-a-view-versus-a-copy\n",
      "  overview['duration'] = pd.to_datetime(experiments_df['end_time']) - pd.to_datetime(experiments_df['start_time'])\n"
     ]
    },
    {
     "data": {
      "text/html": [
       "<div>\n",
       "<style scoped>\n",
       "    .dataframe tbody tr th:only-of-type {\n",
       "        vertical-align: middle;\n",
       "    }\n",
       "\n",
       "    .dataframe tbody tr th {\n",
       "        vertical-align: top;\n",
       "    }\n",
       "\n",
       "    .dataframe thead th {\n",
       "        text-align: right;\n",
       "    }\n",
       "</style>\n",
       "<table border=\"1\" class=\"dataframe\">\n",
       "  <thead>\n",
       "    <tr style=\"text-align: right;\">\n",
       "      <th></th>\n",
       "      <th>experiment_id</th>\n",
       "      <th>matrix_type</th>\n",
       "      <th>player1_strategy</th>\n",
       "      <th>player2_strategy</th>\n",
       "      <th>total_games</th>\n",
       "      <th>cooperation_rate</th>\n",
       "      <th>duration</th>\n",
       "    </tr>\n",
       "  </thead>\n",
       "  <tbody>\n",
       "    <tr>\n",
       "      <th>0</th>\n",
       "      <td>9e8586c5-2168-4ff8-82e5-a6e5d621735d</td>\n",
       "      <td>baseline</td>\n",
       "      <td>claude_haiku</td>\n",
       "      <td>multiple</td>\n",
       "      <td>10</td>\n",
       "      <td>0.56</td>\n",
       "      <td>0 days 00:01:11.481562</td>\n",
       "    </tr>\n",
       "    <tr>\n",
       "      <th>1</th>\n",
       "      <td>9874f0f2-739c-4134-9093-c7a13d482890</td>\n",
       "      <td>baseline</td>\n",
       "      <td>claude_haiku</td>\n",
       "      <td>multiple</td>\n",
       "      <td>10</td>\n",
       "      <td>0.55</td>\n",
       "      <td>0 days 00:01:08.466060</td>\n",
       "    </tr>\n",
       "    <tr>\n",
       "      <th>2</th>\n",
       "      <td>80cc6eaa-7bf3-4feb-bf06-1e2f98c86cd4</td>\n",
       "      <td>mixed_30</td>\n",
       "      <td>claude_haiku</td>\n",
       "      <td>multiple</td>\n",
       "      <td>5</td>\n",
       "      <td>0.38</td>\n",
       "      <td>0 days 00:00:50.215439</td>\n",
       "    </tr>\n",
       "  </tbody>\n",
       "</table>\n",
       "</div>"
      ],
      "text/plain": [
       "                          experiment_id matrix_type player1_strategy  \\\n",
       "0  9e8586c5-2168-4ff8-82e5-a6e5d621735d    baseline     claude_haiku   \n",
       "1  9874f0f2-739c-4134-9093-c7a13d482890    baseline     claude_haiku   \n",
       "2  80cc6eaa-7bf3-4feb-bf06-1e2f98c86cd4    mixed_30     claude_haiku   \n",
       "\n",
       "  player2_strategy  total_games  cooperation_rate               duration  \n",
       "0         multiple           10              0.56 0 days 00:01:11.481562  \n",
       "1         multiple           10              0.55 0 days 00:01:08.466060  \n",
       "2         multiple            5              0.38 0 days 00:00:50.215439  "
      ]
     },
     "metadata": {},
     "output_type": "display_data"
    }
   ],
   "source": [
    "overview = display_experiment_overview()"
   ]
  },
  {
   "cell_type": "markdown",
   "metadata": {},
   "source": [
    "## Step 2: Analyze specific experiment"
   ]
  },
  {
   "cell_type": "code",
   "execution_count": 7,
   "metadata": {},
   "outputs": [],
   "source": [
    "experiment_id = '80cc6eaa-7bf3-4feb-bf06-1e2f98c86cd4'"
   ]
  },
  {
   "cell_type": "code",
   "execution_count": 8,
   "metadata": {},
   "outputs": [
    {
     "name": "stdout",
     "output_type": "stream",
     "text": [
      "\n",
      "Analysis for experiment 80cc6eaa-7bf3-4feb-bf06-1e2f98c86cd4\n",
      "Matrix Type: mixed_30\n",
      "Player 1: claude_haiku\n",
      "Player 2: multiple\n",
      "\n",
      "Game Statistics:\n"
     ]
    },
    {
     "data": {
      "text/html": [
       "<div>\n",
       "<style scoped>\n",
       "    .dataframe tbody tr th:only-of-type {\n",
       "        vertical-align: middle;\n",
       "    }\n",
       "\n",
       "    .dataframe tbody tr th {\n",
       "        vertical-align: top;\n",
       "    }\n",
       "\n",
       "    .dataframe thead th {\n",
       "        text-align: right;\n",
       "    }\n",
       "</style>\n",
       "<table border=\"1\" class=\"dataframe\">\n",
       "  <thead>\n",
       "    <tr style=\"text-align: right;\">\n",
       "      <th></th>\n",
       "      <th>game_id</th>\n",
       "      <th>matrix_type</th>\n",
       "      <th>p1_coop_rate</th>\n",
       "      <th>p2_coop_rate</th>\n",
       "      <th>p1_final_score</th>\n",
       "      <th>p2_final_score</th>\n",
       "      <th>opponent_strategy</th>\n",
       "      <th>winner</th>\n",
       "    </tr>\n",
       "  </thead>\n",
       "  <tbody>\n",
       "    <tr>\n",
       "      <th>0</th>\n",
       "      <td>045fe670-c1ad-4f02-b07d-69fc4d897cb7</td>\n",
       "      <td>mixed_30</td>\n",
       "      <td>0.4</td>\n",
       "      <td>0.0</td>\n",
       "      <td>-4</td>\n",
       "      <td>16</td>\n",
       "      <td>Optimal (mixed_30)</td>\n",
       "      <td>Opponent</td>\n",
       "    </tr>\n",
       "    <tr>\n",
       "      <th>1</th>\n",
       "      <td>064fb006-8c56-4b4f-8aed-1348a594ff8c</td>\n",
       "      <td>mixed_30</td>\n",
       "      <td>0.4</td>\n",
       "      <td>0.4</td>\n",
       "      <td>10</td>\n",
       "      <td>10</td>\n",
       "      <td>Optimal (mixed_30)</td>\n",
       "      <td>Opponent</td>\n",
       "    </tr>\n",
       "    <tr>\n",
       "      <th>2</th>\n",
       "      <td>67f75889-62aa-46c8-8439-bdc8c22184f0</td>\n",
       "      <td>mixed_30</td>\n",
       "      <td>0.4</td>\n",
       "      <td>0.2</td>\n",
       "      <td>2</td>\n",
       "      <td>12</td>\n",
       "      <td>Optimal (mixed_30)</td>\n",
       "      <td>Opponent</td>\n",
       "    </tr>\n",
       "    <tr>\n",
       "      <th>3</th>\n",
       "      <td>9e1ae3a2-c2e2-4817-be6b-06dcacc468ad</td>\n",
       "      <td>mixed_30</td>\n",
       "      <td>0.4</td>\n",
       "      <td>0.6</td>\n",
       "      <td>18</td>\n",
       "      <td>8</td>\n",
       "      <td>Optimal (mixed_30)</td>\n",
       "      <td>AI</td>\n",
       "    </tr>\n",
       "    <tr>\n",
       "      <th>4</th>\n",
       "      <td>f2df14e8-2c87-43b6-a6ae-a138b4569e16</td>\n",
       "      <td>mixed_30</td>\n",
       "      <td>0.6</td>\n",
       "      <td>0.4</td>\n",
       "      <td>6</td>\n",
       "      <td>16</td>\n",
       "      <td>Optimal (mixed_30)</td>\n",
       "      <td>Opponent</td>\n",
       "    </tr>\n",
       "  </tbody>\n",
       "</table>\n",
       "</div>"
      ],
      "text/plain": [
       "                                game_id matrix_type  p1_coop_rate  \\\n",
       "0  045fe670-c1ad-4f02-b07d-69fc4d897cb7    mixed_30           0.4   \n",
       "1  064fb006-8c56-4b4f-8aed-1348a594ff8c    mixed_30           0.4   \n",
       "2  67f75889-62aa-46c8-8439-bdc8c22184f0    mixed_30           0.4   \n",
       "3  9e1ae3a2-c2e2-4817-be6b-06dcacc468ad    mixed_30           0.4   \n",
       "4  f2df14e8-2c87-43b6-a6ae-a138b4569e16    mixed_30           0.6   \n",
       "\n",
       "   p2_coop_rate  p1_final_score  p2_final_score   opponent_strategy    winner  \n",
       "0           0.0              -4              16  Optimal (mixed_30)  Opponent  \n",
       "1           0.4              10              10  Optimal (mixed_30)  Opponent  \n",
       "2           0.2               2              12  Optimal (mixed_30)  Opponent  \n",
       "3           0.6              18               8  Optimal (mixed_30)        AI  \n",
       "4           0.4               6              16  Optimal (mixed_30)  Opponent  "
      ]
     },
     "metadata": {},
     "output_type": "display_data"
    }
   ],
   "source": [
    "games = analyze_experiments(experiment_id)"
   ]
  },
  {
   "cell_type": "markdown",
   "metadata": {},
   "source": [
    "## Step 3: View specific game details"
   ]
  },
  {
   "cell_type": "code",
   "execution_count": 11,
   "metadata": {},
   "outputs": [],
   "source": [
    "# game_id = games['game_id'].iloc[0]  # or any game_id you find interesting\n",
    "game_id = '9e1ae3a2-c2e2-4817-be6b-06dcacc468ad'"
   ]
  },
  {
   "cell_type": "code",
   "execution_count": 14,
   "metadata": {},
   "outputs": [
    {
     "name": "stdout",
     "output_type": "stream",
     "text": [
      "Game ID: 9e1ae3a2-c2e2-4817-be6b-06dcacc468ad\n",
      "Matrix Type: mixed_30\n",
      "Opponent Strategy: Optimal (mixed_30)\n",
      "Final Score - AI: 18, Opponent: 8\n",
      "\n"
     ]
    },
    {
     "data": {
      "text/html": [
       "<div>\n",
       "<style scoped>\n",
       "    .dataframe tbody tr th:only-of-type {\n",
       "        vertical-align: middle;\n",
       "    }\n",
       "\n",
       "    .dataframe tbody tr th {\n",
       "        vertical-align: top;\n",
       "    }\n",
       "\n",
       "    .dataframe thead th {\n",
       "        text-align: right;\n",
       "    }\n",
       "</style>\n",
       "<table border=\"1\" class=\"dataframe\">\n",
       "  <thead>\n",
       "    <tr style=\"text-align: right;\">\n",
       "      <th></th>\n",
       "      <th>round</th>\n",
       "      <th>p1 move</th>\n",
       "      <th>p2 move</th>\n",
       "      <th>p1 score</th>\n",
       "      <th>p2 score</th>\n",
       "      <th>p1 total</th>\n",
       "      <th>p2 total</th>\n",
       "      <th>AI reasoning</th>\n",
       "    </tr>\n",
       "  </thead>\n",
       "  <tbody>\n",
       "    <tr>\n",
       "      <th>15</th>\n",
       "      <td>1</td>\n",
       "      <td>cooperate</td>\n",
       "      <td>cooperate</td>\n",
       "      <td>4</td>\n",
       "      <td>4</td>\n",
       "      <td>4</td>\n",
       "      <td>4</td>\n",
       "      <td>Since this is the first round of the game, there is no history to base my decision on. The optimal strategy for the first round is to COOPERATE, as this will result in the highest joint payoff for both players. By cooperating, we can establish a cooperative relationship that may be beneficial in future rounds.</td>\n",
       "    </tr>\n",
       "    <tr>\n",
       "      <th>16</th>\n",
       "      <td>2</td>\n",
       "      <td>cooperate</td>\n",
       "      <td>defect</td>\n",
       "      <td>-2</td>\n",
       "      <td>8</td>\n",
       "      <td>2</td>\n",
       "      <td>12</td>\n",
       "      <td>In the previous round, we both cooperated, which resulted in us both receiving 3 points each. This is the best outcome for both players, as it maximizes the total points gained. Since the opponent also cooperated in the previous round, it is reasonable to assume they may continue to cooperate. Therefore, the best strategy for me is to continue cooperating, as this will result in the highest possible total score for both of us.</td>\n",
       "    </tr>\n",
       "    <tr>\n",
       "      <th>17</th>\n",
       "      <td>3</td>\n",
       "      <td>defect</td>\n",
       "      <td>cooperate</td>\n",
       "      <td>8</td>\n",
       "      <td>-2</td>\n",
       "      <td>10</td>\n",
       "      <td>10</td>\n",
       "      <td>In the first two rounds, the opponent has played a mix of cooperate and defect. Since the opponent defected in the previous round, resulting in a significant score advantage for them, I believe the best strategy is to defect in this round to try to even the scores. Defecting will give me a higher payoff than cooperating, and I need to be more competitive to catch up to the opponent's lead.</td>\n",
       "    </tr>\n",
       "    <tr>\n",
       "      <th>18</th>\n",
       "      <td>4</td>\n",
       "      <td>defect</td>\n",
       "      <td>defect</td>\n",
       "      <td>0</td>\n",
       "      <td>0</td>\n",
       "      <td>10</td>\n",
       "      <td>10</td>\n",
       "      <td>Based on the game history, it's clear that the opponent is willing to cooperate, but they are also willing to defect if they think it will benefit them. In the long run, mutual cooperation is the best strategy to maximize the total points for both players. However, given the current score difference, I believe the best move is to defect in this round to try to even out the scores. This will ensure that neither player has a significant advantage going forward and preserve the possibility of a mutually beneficial cooperative relationship in future rounds.</td>\n",
       "    </tr>\n",
       "    <tr>\n",
       "      <th>19</th>\n",
       "      <td>5</td>\n",
       "      <td>defect</td>\n",
       "      <td>cooperate</td>\n",
       "      <td>8</td>\n",
       "      <td>-2</td>\n",
       "      <td>18</td>\n",
       "      <td>8</td>\n",
       "      <td>Based on the game history, it seems the opponent has a mixed strategy, sometimes cooperating and sometimes defecting. Since I have a higher score than the opponent at the moment, I will choose to defect in this round to maximize my points and widen the gap. However, I will keep an eye out for any patterns in the opponent's behavior that may indicate a more consistent strategy in the future rounds.</td>\n",
       "    </tr>\n",
       "  </tbody>\n",
       "</table>\n",
       "</div>"
      ],
      "text/plain": [
       "    round    p1 move    p2 move  p1 score  p2 score  p1 total  p2 total  \\\n",
       "15      1  cooperate  cooperate         4         4         4         4   \n",
       "16      2  cooperate     defect        -2         8         2        12   \n",
       "17      3     defect  cooperate         8        -2        10        10   \n",
       "18      4     defect     defect         0         0        10        10   \n",
       "19      5     defect  cooperate         8        -2        18         8   \n",
       "\n",
       "                                                                                                                                                                                                                                                                                                                                                                                                                                                                                                                                                                       AI reasoning  \n",
       "15                                                                                                                                                                                                                                                          Since this is the first round of the game, there is no history to base my decision on. The optimal strategy for the first round is to COOPERATE, as this will result in the highest joint payoff for both players. By cooperating, we can establish a cooperative relationship that may be beneficial in future rounds.  \n",
       "16                                                                                                                                   In the previous round, we both cooperated, which resulted in us both receiving 3 points each. This is the best outcome for both players, as it maximizes the total points gained. Since the opponent also cooperated in the previous round, it is reasonable to assume they may continue to cooperate. Therefore, the best strategy for me is to continue cooperating, as this will result in the highest possible total score for both of us.  \n",
       "17                                                                                                                                                                         In the first two rounds, the opponent has played a mix of cooperate and defect. Since the opponent defected in the previous round, resulting in a significant score advantage for them, I believe the best strategy is to defect in this round to try to even the scores. Defecting will give me a higher payoff than cooperating, and I need to be more competitive to catch up to the opponent's lead.  \n",
       "18  Based on the game history, it's clear that the opponent is willing to cooperate, but they are also willing to defect if they think it will benefit them. In the long run, mutual cooperation is the best strategy to maximize the total points for both players. However, given the current score difference, I believe the best move is to defect in this round to try to even out the scores. This will ensure that neither player has a significant advantage going forward and preserve the possibility of a mutually beneficial cooperative relationship in future rounds.  \n",
       "19                                                                                                                                                                 Based on the game history, it seems the opponent has a mixed strategy, sometimes cooperating and sometimes defecting. Since I have a higher score than the opponent at the moment, I will choose to defect in this round to maximize my points and widen the gap. However, I will keep an eye out for any patterns in the opponent's behavior that may indicate a more consistent strategy in the future rounds.  "
      ]
     },
     "metadata": {},
     "output_type": "display_data"
    }
   ],
   "source": [
    "view_game_details(game_id)"
   ]
  },
  {
   "cell_type": "code",
   "execution_count": null,
   "metadata": {},
   "outputs": [],
   "source": []
  }
 ],
 "metadata": {
  "kernelspec": {
   "display_name": "dilemma_agent_venv",
   "language": "python",
   "name": "dilemma_agent_venv"
  },
  "language_info": {
   "codemirror_mode": {
    "name": "ipython",
    "version": 3
   },
   "file_extension": ".py",
   "mimetype": "text/x-python",
   "name": "python",
   "nbconvert_exporter": "python",
   "pygments_lexer": "ipython3",
   "version": "3.10.9"
  }
 },
 "nbformat": 4,
 "nbformat_minor": 4
}
