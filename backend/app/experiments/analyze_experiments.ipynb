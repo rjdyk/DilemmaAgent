{
 "cells": [
  {
   "cell_type": "markdown",
   "metadata": {},
   "source": [
    "# DilemmaAgent: LLM Behavior in Game Theoretical Scenarios Analysis"
   ]
  },
  {
   "cell_type": "code",
   "execution_count": null,
   "metadata": {},
   "outputs": [],
   "source": [
    "import pandas as pd\n",
    "import matplotlib.pyplot as plt\n",
    "import seaborn as sns\n",
    "from app.utils.experiment_storage import ExperimentStorage"
   ]
  },
  {
   "cell_type": "markdown",
   "metadata": {},
   "source": [
    "## 1. Load Data"
   ]
  },
  {
   "cell_type": "code",
   "execution_count": null,
   "metadata": {},
   "outputs": [],
   "source": [
    "storage = ExperimentStorage()\n",
    "experiments_df = storage.get_experiments_summary()"
   ]
  },
  {
   "cell_type": "markdown",
   "metadata": {},
   "source": [
    "## 2. Cooperation Rate Analysis"
   ]
  },
  {
   "cell_type": "code",
   "execution_count": null,
   "metadata": {},
   "outputs": [],
   "source": [
    "def plot_cooperation_rates(experiment_id):\n",
    "    results = storage.get_experiment_results(experiment_id)\n",
    "    games_df = pd.DataFrame([\n",
    "        {\n",
    "            'game_number': i,\n",
    "            'cooperation_rate': game.cooperation_rate,\n",
    "            'strategy': game.opponent_strategy\n",
    "        }\n",
    "        for i, game in enumerate(results.games)\n",
    "    ])\n",
    "    \n",
    "    plt.figure(figsize=(12,6))\n",
    "    sns.boxplot(data=games_df, x='strategy', y='cooperation_rate')\n",
    "    plt.title(f'Cooperation Rates by Strategy\\nMatrix: {results.matrix_type}')\n",
    "    plt.show()"
   ]
  },
  {
   "cell_type": "markdown",
   "metadata": {},
   "source": [
    "\n",
    "## 3. Score Distribution Analysis"
   ]
  },
  {
   "cell_type": "code",
   "execution_count": null,
   "metadata": {},
   "outputs": [],
   "source": [
    "def plot_score_distributions(experiment_id):\n",
    "    results = storage.get_experiment_results(experiment_id)\n",
    "    scores_df = pd.DataFrame([\n",
    "        {\n",
    "            'game_number': i,\n",
    "            'ai_score': game.final_scores[0],\n",
    "            'opponent_score': game.final_scores[1],\n",
    "            'strategy': game.opponent_strategy\n",
    "        }\n",
    "        for i, game in enumerate(results.games)\n",
    "    ])\n",
    "    \n",
    "    plt.figure(figsize=(12,6))\n",
    "    sns.violinplot(data=scores_df.melt(id_vars=['strategy'], \n",
    "                                     value_vars=['ai_score', 'opponent_score']),\n",
    "                  x='strategy', y='value', hue='variable')\n",
    "    plt.title(f'Score Distributions\\nMatrix: {results.matrix_type}')\n",
    "    plt.show()"
   ]
  },
  {
   "cell_type": "markdown",
   "metadata": {},
   "source": [
    "## 4. Token Usage Analysis"
   ]
  },
  {
   "cell_type": "code",
   "execution_count": null,
   "metadata": {},
   "outputs": [],
   "source": [
    "def plot_token_usage(experiment_id):\n",
    "    results = storage.get_experiment_results(experiment_id)\n",
    "    token_df = pd.DataFrame([\n",
    "        {\n",
    "            'round': r.round_number,\n",
    "            'game': i,\n",
    "            'tokens': r.token_usage.total_tokens if r.token_usage else 0,\n",
    "            'strategy': game.opponent_strategy\n",
    "        }\n",
    "        for i, game in enumerate(results.games)\n",
    "        for r in game.rounds\n",
    "    ])\n",
    "    \n",
    "    plt.figure(figsize=(12,6))\n",
    "    sns.lineplot(data=token_df, x='round', y='tokens', hue='strategy')\n",
    "    plt.title(f'Token Usage Over Time\\nMatrix: {results.matrix_type}')\n",
    "    plt.show()"
   ]
  },
  {
   "cell_type": "markdown",
   "metadata": {},
   "source": [
    "## 5. Reasoning Analysis"
   ]
  },
  {
   "cell_type": "code",
   "execution_count": null,
   "metadata": {},
   "outputs": [],
   "source": [
    "def analyze_reasoning(experiment_id):\n",
    "    results = storage.get_experiment_results(experiment_id)\n",
    "    reasoning_df = pd.DataFrame([\n",
    "        {\n",
    "            'round': r.round_number,\n",
    "            'game': i,\n",
    "            'reasoning': r.player1_reasoning,\n",
    "            'move': r.player1_move.value,\n",
    "            'strategy': game.opponent_strategy\n",
    "        }\n",
    "        for i, game in enumerate(results.games)\n",
    "        for r in game.rounds\n",
    "    ])\n",
    "    \n",
    "    # Basic text analysis of reasoning\n",
    "    from collections import Counter\n",
    "    import nltk\n",
    "    nltk.download('punkt')\n",
    "    nltk.download('stopwords')\n",
    "    \n",
    "    words = ' '.join(reasoning_df['reasoning']).lower().split()\n",
    "    word_freq = Counter(words).most_common(20)\n",
    "    \n",
    "    plt.figure(figsize=(12,6))\n",
    "    sns.barplot(x=[w[0] for w in word_freq], y=[w[1] for w in word_freq])\n",
    "    plt.xticks(rotation=45)\n",
    "    plt.title('Most Common Words in AI Reasoning')\n",
    "    plt.show()"
   ]
  }
 ],
 "metadata": {
  "kernelspec": {
   "display_name": "dilemma_agent_venv",
   "language": "python",
   "name": "dilemma_agent_venv"
  },
  "language_info": {
   "codemirror_mode": {
    "name": "ipython",
    "version": 3
   },
   "file_extension": ".py",
   "mimetype": "text/x-python",
   "name": "python",
   "nbconvert_exporter": "python",
   "pygments_lexer": "ipython3",
   "version": "3.10.9"
  }
 },
 "nbformat": 4,
 "nbformat_minor": 4
}
